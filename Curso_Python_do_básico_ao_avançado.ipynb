{
  "nbformat": 4,
  "nbformat_minor": 0,
  "metadata": {
    "colab": {
      "provenance": [],
      "toc_visible": true,
      "authorship_tag": "ABX9TyM5u/AB8mr6YCTXGIxjFzgl",
      "include_colab_link": true
    },
    "kernelspec": {
      "name": "python3",
      "display_name": "Python 3"
    },
    "language_info": {
      "name": "python"
    }
  },
  "cells": [
    {
      "cell_type": "markdown",
      "metadata": {
        "id": "view-in-github",
        "colab_type": "text"
      },
      "source": [
        "<a href=\"https://colab.research.google.com/github/pedro21900/Cloud_service/blob/main/Curso_Python_do_b%C3%A1sico_ao_avan%C3%A7ado.ipynb\" target=\"_parent\"><img src=\"https://colab.research.google.com/assets/colab-badge.svg\" alt=\"Open In Colab\"/></a>"
      ]
    },
    {
      "cell_type": "markdown",
      "source": [
        "# Curso de python\n"
      ],
      "metadata": {
        "id": "2Y_350WRjAkC"
      }
    },
    {
      "cell_type": "markdown",
      "source": [
        "## Utilização de lambda"
      ],
      "metadata": {
        "id": "8drcbo4ijImd"
      }
    },
    {
      "cell_type": "code",
      "source": [
        "type_num= lambda num: 'Par' if num%2==0 else 'Impar'\n",
        "\n",
        "print(type_num(2))"
      ],
      "metadata": {
        "colab": {
          "base_uri": "https://localhost:8080/"
        },
        "id": "eusnFGgnjNS5",
        "outputId": "d2c5e464-49bd-4c6b-97f8-5ee3ed82dce6"
      },
      "execution_count": 7,
      "outputs": [
        {
          "output_type": "stream",
          "name": "stdout",
          "text": [
            "Par\n"
          ]
        }
      ]
    },
    {
      "cell_type": "markdown",
      "source": [
        "## Ultilização Set\n",
        "\n",
        "Este código em Python lida com listas de funcionários e informações sobre seus turnos de trabalho e se eles têm um carro. O objetivo é criar três listas diferentes:\n",
        "\n",
        "\n",
        "list1: Funcionários que trabalham no turno da noite e têm um carro.\n",
        "list2: Funcionários que trabalham no turno do dia e têm um carro.\n",
        "list3: Funcionários que não têm um carro."
      ],
      "metadata": {
        "id": "4nME9tXpjhW0"
      }
    },
    {
      "cell_type": "code",
      "source": [
        "funcionarios = ['Ana','Marcos','Alice','Pedro','Sophia','Bruno','Melissa']\n",
        "\n",
        "turno_dia = ['Ana','Marcos','Alice','Melissa']\n",
        "\n",
        "turno_noite = ['Pedro','Sophia','Bruno']\n",
        "\n",
        "tem_carro = ['Marcos','Alice','Bruno','Melissa']\n",
        "\n",
        "list1=set(turno_noite).intersection(tem_carro)\n",
        "\n",
        "list2=set(turno_dia).intersection(tem_carro)\n",
        "\n",
        "list3=set(funcionarios).difference(tem_carro)\n",
        "\n",
        "print(f'Lista1 -> {list1}')\n",
        "print(f'Lista2 -> {list2}')\n",
        "print(f'Lista3 -> {list3}')"
      ],
      "metadata": {
        "colab": {
          "base_uri": "https://localhost:8080/"
        },
        "id": "7rQDZ-vkjnS4",
        "outputId": "34779941-f6a9-4912-8e20-e58c91b3f71d"
      },
      "execution_count": 8,
      "outputs": [
        {
          "output_type": "stream",
          "name": "stdout",
          "text": [
            "Lista1 -> {'Bruno'}\n",
            "Lista2 -> {'Melissa', 'Alice', 'Marcos'}\n",
            "Lista3 -> {'Sophia', 'Pedro', 'Ana'}\n"
          ]
        }
      ]
    },
    {
      "cell_type": "markdown",
      "source": [
        "## Contagem de itens\n",
        "\n",
        "Contando itens em uma lista\n"
      ],
      "metadata": {
        "id": "aoGDgM8Xkien"
      }
    },
    {
      "cell_type": "code",
      "source": [
        "frutas = ['Maça','Perâ','Tomate','Maça','Maça']\n",
        "\n",
        "macas = [fruta for fruta in frutas if fruta == 'Maça']\n",
        "\n",
        "print(f\"Você possui {len(macas)} maçãs\")"
      ],
      "metadata": {
        "colab": {
          "base_uri": "https://localhost:8080/"
        },
        "id": "T0DI1Hirk5Br",
        "outputId": "6773e290-152d-413a-e980-5a922f799004"
      },
      "execution_count": 4,
      "outputs": [
        {
          "output_type": "stream",
          "name": "stdout",
          "text": [
            "Você possui 3 maçãs\n"
          ]
        }
      ]
    },
    {
      "cell_type": "markdown",
      "source": [
        "#Cálculo de massa corporal"
      ],
      "metadata": {
        "id": "7_y0XRV1k_QF"
      }
    },
    {
      "cell_type": "code",
      "source": [
        "altura=input(\"Qual a sua altura?\")\n",
        "\n",
        "peso=input(\"Qual o seu peso?\")\n",
        "imc=float(peso)/(float(altura)**2)\n",
        "\n",
        "if imc<18.5:\n",
        "    print(f\"Abaixo do peso -> imc: {imc}\")\n",
        "elif imc>=18.5 and imc<25:\n",
        "    print(f\"Peso ideal -> imc: {imc}\")\n",
        "elif imc>=25 and imc<30:\n",
        "    print(f\"Sobrepeso -> imc: {imc}\")\n",
        "elif imc>=30 and imc<35:\n",
        "    print(f\"Obesidade grau 1 -> imc: {imc}\")\n",
        "elif imc>=35 and imc<40:\n",
        "    print(f\"Obesidade grau 2 -> imc: {imc}\")\n",
        "else:\n",
        "    print(f\"Obesidade grau 3 -> imc: {imc}\")"
      ],
      "metadata": {
        "id": "8ACLJ6ASlDYx"
      },
      "execution_count": null,
      "outputs": []
    },
    {
      "cell_type": "markdown",
      "source": [
        "#Pesquisa frutas em uma lista\n"
      ],
      "metadata": {
        "id": "llCf3F8ylJx_"
      }
    },
    {
      "cell_type": "code",
      "source": [
        "pesquisa_frutas=input(\"Qual fruta você quer pesquisar ? \")\n",
        "\n",
        "frutas = ['Maça','Perâ','Tomate','Maça','Maça']\n",
        "\n",
        "if pesquisa_frutas in frutas:\n",
        "  print(f\"A fruta {pesquisa_frutas} está na lista\")\n",
        "else:\n",
        "  print(f\"Não está na lista\")"
      ],
      "metadata": {
        "colab": {
          "base_uri": "https://localhost:8080/"
        },
        "id": "vBrbQBNqlN2r",
        "outputId": "c75a5aa8-96a9-462b-ff39-c0a887bbaaba"
      },
      "execution_count": 6,
      "outputs": [
        {
          "output_type": "stream",
          "name": "stdout",
          "text": [
            "Qual fruta você quer pesquisar ? Tomate\n",
            "A fruta Tomate está na lista\n",
            "Você possui 3 maçãs\n"
          ]
        }
      ]
    }
  ]
}