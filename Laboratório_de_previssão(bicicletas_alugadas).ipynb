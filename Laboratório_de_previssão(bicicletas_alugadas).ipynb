{
  "nbformat": 4,
  "nbformat_minor": 0,
  "metadata": {
    "colab": {
      "provenance": [],
      "authorship_tag": "ABX9TyN1QDAc3qUDGG71d8z4j4LK",
      "include_colab_link": true
    },
    "kernelspec": {
      "name": "python3",
      "display_name": "Python 3"
    },
    "language_info": {
      "name": "python"
    }
  },
  "cells": [
    {
      "cell_type": "markdown",
      "metadata": {
        "id": "view-in-github",
        "colab_type": "text"
      },
      "source": [
        "<a href=\"https://colab.research.google.com/github/pedro21900/Cloud_service/blob/main/Laborat%C3%B3rio_de_previss%C3%A3o(bicicletas_alugadas).ipynb\" target=\"_parent\"><img src=\"https://colab.research.google.com/assets/colab-badge.svg\" alt=\"Open In Colab\"/></a>"
      ]
    },
    {
      "cell_type": "markdown",
      "source": [
        "#Laboratório de regressão\n",
        "\n",
        "## Conversão de temperatura"
      ],
      "metadata": {
        "id": "V2dCnVDCn9Y2"
      }
    },
    {
      "cell_type": "markdown",
      "source": [
        "#### Importando bibliotecas\n"
      ],
      "metadata": {
        "id": "LMOczze8RiOQ"
      }
    },
    {
      "cell_type": "code",
      "execution_count": null,
      "metadata": {
        "colab": {
          "base_uri": "https://localhost:8080/",
          "height": 35
        },
        "id": "wcUcsmGzl_5Q",
        "outputId": "e79bed4f-b154-4154-cea0-31ceabbc6946"
      },
      "outputs": [
        {
          "output_type": "execute_result",
          "data": {
            "text/plain": [
              "'2.14.0'"
            ],
            "application/vnd.google.colaboratory.intrinsic+json": {
              "type": "string"
            }
          },
          "metadata": {},
          "execution_count": 1
        }
      ],
      "source": [
        "import tensorflow as tf\n",
        "import pandas as pd\n",
        "import numpy as np\n",
        "import seaborn as sns\n",
        "import matplotlib.pyplot as plt\n",
        "\n",
        "tf.__version__"
      ]
    },
    {
      "cell_type": "markdown",
      "source": [
        "#### Importação de arquivo"
      ],
      "metadata": {
        "id": "nPIZW2_uoMDS"
      }
    },
    {
      "cell_type": "code",
      "source": [
        "temperature_df = pd.read_csv('/content/Celsius-to-Fahrenheit.csv')\n",
        "temperature_df.reset_index(drop=True,inplace=True)\n",
        "print(temperature_df)\n",
        "\n",
        "#Primeiro 5\n",
        "#print(temperature_df.head())\n",
        "\n",
        "#Ultimos 5\n",
        "#print(temperature_df.tail(5))\n",
        "#Informações\n",
        "print(temperature_df.info())"
      ],
      "metadata": {
        "colab": {
          "base_uri": "https://localhost:8080/"
        },
        "id": "yk2ZX7MZoT8p",
        "outputId": "b94d818a-39ef-4f4e-c24e-4cba7a925f22"
      },
      "execution_count": null,
      "outputs": [
        {
          "output_type": "stream",
          "name": "stdout",
          "text": [
            "    Celsius  Fahrenheit\n",
            "0       -50       -58.0\n",
            "1       -40       -40.0\n",
            "2       -30       -22.0\n",
            "3       -20        -4.0\n",
            "4       -10        14.0\n",
            "5        -9        15.8\n",
            "6        -8        17.6\n",
            "7        -7        19.4\n",
            "8        -6        21.2\n",
            "9        -5        23.0\n",
            "10       -4        24.8\n",
            "11       -3        26.6\n",
            "12       -2        28.4\n",
            "13       -1        30.2\n",
            "14        0        32.0\n",
            "15        1        33.8\n",
            "16        2        35.6\n",
            "17        3        37.4\n",
            "18        4        39.2\n",
            "19        5        41.0\n",
            "20        6        42.8\n",
            "21        7        44.6\n",
            "22        8        46.4\n",
            "23        9        48.2\n",
            "24       10        50.0\n",
            "25       20        68.0\n",
            "26       30        86.0\n",
            "27       40       104.0\n",
            "28       50       122.0\n",
            "29       60       140.0\n",
            "<class 'pandas.core.frame.DataFrame'>\n",
            "RangeIndex: 30 entries, 0 to 29\n",
            "Data columns (total 2 columns):\n",
            " #   Column      Non-Null Count  Dtype  \n",
            "---  ------      --------------  -----  \n",
            " 0   Celsius     30 non-null     int64  \n",
            " 1   Fahrenheit  30 non-null     float64\n",
            "dtypes: float64(1), int64(1)\n",
            "memory usage: 608.0 bytes\n",
            "None\n"
          ]
        }
      ]
    },
    {
      "cell_type": "markdown",
      "source": [
        "### Visualização de dados"
      ],
      "metadata": {
        "id": "qUyFB506pvVC"
      }
    },
    {
      "cell_type": "code",
      "source": [
        "sns.scatterplot(x=temperature_df['Celsius'],y=temperature_df['Fahrenheit']);"
      ],
      "metadata": {
        "colab": {
          "base_uri": "https://localhost:8080/",
          "height": 449
        },
        "id": "SCHFOByRpy7k",
        "outputId": "716af0f5-f7eb-44c6-fa3b-4af4d9f5c248"
      },
      "execution_count": null,
      "outputs": [
        {
          "output_type": "display_data",
          "data": {
            "text/plain": [
              "<Figure size 640x480 with 1 Axes>"
            ],
            "image/png": "[encoded data removed]"
          },
          "metadata": {}
        }
      ]
    },
    {
      "cell_type": "markdown",
      "source": [
        "### Configurando a base de treinamento"
      ],
      "metadata": {
        "id": "DQ3PzQmJrC6y"
      }
    },
    {
      "cell_type": "code",
      "source": [
        "x_train = temperature_df['Celsius'];\n",
        "y_train=temperature_df['Fahrenheit'];\n",
        "\n",
        "print(f'x_train possui {x_train.shape} registros' );\n",
        "print(f'y_train possui {y_train.shape} registros' );\n"
      ],
      "metadata": {
        "colab": {
          "base_uri": "https://localhost:8080/"
        },
        "id": "qE41UILmrSuV",
        "outputId": "4caab9bb-85e7-49d7-9d5c-64a6cc8fd0eb"
      },
      "execution_count": null,
      "outputs": [
        {
          "output_type": "stream",
          "name": "stdout",
          "text": [
            "x_train possui (30,) registros\n",
            "y_train possui (30,) registros\n"
          ]
        }
      ]
    },
    {
      "cell_type": "markdown",
      "source": [
        "### Construção do modelo"
      ],
      "metadata": {
        "id": "fbGEU_iorwfP"
      }
    },
    {
      "cell_type": "code",
      "source": [
        "model= tf.keras.Sequential()\n",
        "model.add(tf.keras.layers.Dense(units = 1 , input_shape=[1]))\n",
        "model.summary()"
      ],
      "metadata": {
        "colab": {
          "base_uri": "https://localhost:8080/"
        },
        "id": "fOdkh_13rzSN",
        "outputId": "37bf0e9f-c2c7-4afd-d0ff-4ba0a0498e62"
      },
      "execution_count": null,
      "outputs": [
        {
          "output_type": "stream",
          "name": "stdout",
          "text": [
            "Model: \"sequential\"\n",
            "_________________________________________________________________\n",
            " Layer (type)                Output Shape              Param #   \n",
            "=================================================================\n",
            " dense (Dense)               (None, 1)                 2         \n",
            "                                                                 \n",
            "=================================================================\n",
            "Total params: 2 (8.00 Byte)\n",
            "Trainable params: 2 (8.00 Byte)\n",
            "Non-trainable params: 0 (0.00 Byte)\n",
            "_________________________________________________________________\n"
          ]
        }
      ]
    },
    {
      "cell_type": "code",
      "source": [
        "model.compile(optimizer=tf.keras.optimizers.Adam(0.1), loss = 'mean_squared_error')\n",
        "epochs_hist = model.fit(x_train,y_train,epochs=200)"
      ],
      "metadata": {
        "colab": {
          "base_uri": "https://localhost:8080/"
        },
        "id": "7lHVCqMptIBT",
        "outputId": "2d0fb745-ee5c-41c3-f63e-82a99ad1ce02"
      },
      "execution_count": null,
      "outputs": [
        {
          "output_type": "stream",
          "name": "stdout",
          "text": [
            "Epoch 1/200\n",
            "1/1 [==============================] - 1s 977ms/step - loss: 1260.9476\n",
            "Epoch 2/200\n",
            "1/1 [==============================] - 0s 27ms/step - loss: 1189.0245\n",
            "Epoch 3/200\n",
            "1/1 [==============================] - 0s 29ms/step - loss: 1127.6696\n",
            "Epoch 4/200\n",
            "1/1 [==============================] - 0s 15ms/step - loss: 1076.9406\n",
            "Epoch 5/200\n",
            "1/1 [==============================] - 0s 30ms/step - loss: 1036.6937\n",
            "Epoch 6/200\n",
            "1/1 [==============================] - 0s 23ms/step - loss: 1006.5079\n",
            "Epoch 7/200\n",
            "1/1 [==============================] - 0s 23ms/step - loss: 985.6051\n",
            "Epoch 8/200\n",
            "1/1 [==============================] - 0s 18ms/step - loss: 972.7888\n",
            "Epoch 9/200\n",
            "1/1 [==============================] - 0s 15ms/step - loss: 966.4366\n",
            "Epoch 10/200\n",
            "1/1 [==============================] - 0s 27ms/step - loss: 964.5906\n",
            "Epoch 11/200\n",
            "1/1 [==============================] - 0s 25ms/step - loss: 965.1578\n",
            "Epoch 12/200\n",
            "1/1 [==============================] - 0s 21ms/step - loss: 966.1866\n",
            "Epoch 13/200\n",
            "1/1 [==============================] - 0s 16ms/step - loss: 966.1287\n",
            "Epoch 14/200\n",
            "1/1 [==============================] - 0s 29ms/step - loss: 963.9976\n",
            "Epoch 15/200\n",
            "1/1 [==============================] - 0s 31ms/step - loss: 959.3889\n",
            "Epoch 16/200\n",
            "1/1 [==============================] - 0s 21ms/step - loss: 952.3903\n",
            "Epoch 17/200\n",
            "1/1 [==============================] - 0s 14ms/step - loss: 943.4368\n",
            "Epoch 18/200\n",
            "1/1 [==============================] - 0s 16ms/step - loss: 933.1592\n",
            "Epoch 19/200\n",
            "1/1 [==============================] - 0s 15ms/step - loss: 922.2531\n",
            "Epoch 20/200\n",
            "1/1 [==============================] - 0s 12ms/step - loss: 911.3770\n",
            "Epoch 21/200\n",
            "1/1 [==============================] - 0s 25ms/step - loss: 901.0798\n",
            "Epoch 22/200\n",
            "1/1 [==============================] - 0s 16ms/step - loss: 891.7542\n",
            "Epoch 23/200\n",
            "1/1 [==============================] - 0s 13ms/step - loss: 883.6129\n",
            "Epoch 24/200\n",
            "1/1 [==============================] - 0s 14ms/step - loss: 876.6880\n",
            "Epoch 25/200\n",
            "1/1 [==============================] - 0s 13ms/step - loss: 870.8498\n",
            "Epoch 26/200\n",
            "1/1 [==============================] - 0s 22ms/step - loss: 865.8450\n",
            "Epoch 27/200\n",
            "1/1 [==============================] - 0s 19ms/step - loss: 861.3489\n",
            "Epoch 28/200\n",
            "1/1 [==============================] - 0s 16ms/step - loss: 857.0216\n",
            "Epoch 29/200\n",
            "1/1 [==============================] - 0s 18ms/step - loss: 852.5615\n",
            "Epoch 30/200\n",
            "1/1 [==============================] - 0s 22ms/step - loss: 847.7460\n",
            "Epoch 31/200\n",
            "1/1 [==============================] - 0s 16ms/step - loss: 842.4537\n",
            "Epoch 32/200\n",
            "1/1 [==============================] - 0s 24ms/step - loss: 836.6677\n",
            "Epoch 33/200\n",
            "1/1 [==============================] - 0s 33ms/step - loss: 830.4602\n",
            "Epoch 34/200\n",
            "1/1 [==============================] - 0s 22ms/step - loss: 823.9677\n",
            "Epoch 35/200\n",
            "1/1 [==============================] - 0s 17ms/step - loss: 817.3571\n",
            "Epoch 36/200\n",
            "1/1 [==============================] - 0s 18ms/step - loss: 810.7961\n",
            "Epoch 37/200\n",
            "1/1 [==============================] - 0s 16ms/step - loss: 804.4245\n",
            "Epoch 38/200\n",
            "1/1 [==============================] - 0s 23ms/step - loss: 798.3365\n",
            "Epoch 39/200\n",
            "1/1 [==============================] - 0s 20ms/step - loss: 792.5712\n",
            "Epoch 40/200\n",
            "1/1 [==============================] - 0s 21ms/step - loss: 787.1146\n",
            "Epoch 41/200\n",
            "1/1 [==============================] - 0s 12ms/step - loss: 781.9086\n",
            "Epoch 42/200\n",
            "1/1 [==============================] - 0s 29ms/step - loss: 776.8676\n",
            "Epoch 43/200\n",
            "1/1 [==============================] - 0s 26ms/step - loss: 771.8975\n",
            "Epoch 44/200\n",
            "1/1 [==============================] - 0s 21ms/step - loss: 766.9127\n",
            "Epoch 45/200\n",
            "1/1 [==============================] - 0s 22ms/step - loss: 761.8504\n",
            "Epoch 46/200\n",
            "1/1 [==============================] - 0s 23ms/step - loss: 756.6784\n",
            "Epoch 47/200\n",
            "1/1 [==============================] - 0s 17ms/step - loss: 751.3957\n",
            "Epoch 48/200\n",
            "1/1 [==============================] - 0s 15ms/step - loss: 746.0284\n",
            "Epoch 49/200\n",
            "1/1 [==============================] - 0s 14ms/step - loss: 740.6201\n",
            "Epoch 50/200\n",
            "1/1 [==============================] - 0s 31ms/step - loss: 735.2203\n",
            "Epoch 51/200\n",
            "1/1 [==============================] - 0s 18ms/step - loss: 729.8756\n",
            "Epoch 52/200\n",
            "1/1 [==============================] - 0s 17ms/step - loss: 724.6199\n",
            "Epoch 53/200\n",
            "1/1 [==============================] - 0s 18ms/step - loss: 719.4705\n",
            "Epoch 54/200\n",
            "1/1 [==============================] - 0s 20ms/step - loss: 714.4267\n",
            "Epoch 55/200\n",
            "1/1 [==============================] - 0s 26ms/step - loss: 709.4732\n",
            "Epoch 56/200\n",
            "1/1 [==============================] - 0s 17ms/step - loss: 704.5849\n",
            "Epoch 57/200\n",
            "1/1 [==============================] - 0s 18ms/step - loss: 699.7338\n",
            "Epoch 58/200\n",
            "1/1 [==============================] - 0s 24ms/step - loss: 694.8947\n",
            "Epoch 59/200\n",
            "1/1 [==============================] - 0s 22ms/step - loss: 690.0494\n",
            "Epoch 60/200\n",
            "1/1 [==============================] - 0s 28ms/step - loss: 685.1906\n",
            "Epoch 61/200\n",
            "1/1 [==============================] - 0s 22ms/step - loss: 680.3203\n",
            "Epoch 62/200\n",
            "1/1 [==============================] - 0s 13ms/step - loss: 675.4484\n",
            "Epoch 63/200\n",
            "1/1 [==============================] - 0s 21ms/step - loss: 670.5893\n",
            "Epoch 64/200\n",
            "1/1 [==============================] - 0s 18ms/step - loss: 665.7582\n",
            "Epoch 65/200\n",
            "1/1 [==============================] - 0s 17ms/step - loss: 660.9674\n",
            "Epoch 66/200\n",
            "1/1 [==============================] - 0s 19ms/step - loss: 656.2240\n",
            "Epoch 67/200\n",
            "1/1 [==============================] - 0s 27ms/step - loss: 651.5299\n",
            "Epoch 68/200\n",
            "1/1 [==============================] - 0s 18ms/step - loss: 646.8810\n",
            "Epoch 69/200\n",
            "1/1 [==============================] - 0s 22ms/step - loss: 642.2703\n",
            "Epoch 70/200\n",
            "1/1 [==============================] - 0s 16ms/step - loss: 637.6887\n",
            "Epoch 71/200\n",
            "1/1 [==============================] - 0s 21ms/step - loss: 633.1285\n",
            "Epoch 72/200\n",
            "1/1 [==============================] - 0s 20ms/step - loss: 628.5837\n",
            "Epoch 73/200\n",
            "1/1 [==============================] - 0s 22ms/step - loss: 624.0521\n",
            "Epoch 74/200\n",
            "1/1 [==============================] - 0s 25ms/step - loss: 619.5345\n",
            "Epoch 75/200\n",
            "1/1 [==============================] - 0s 15ms/step - loss: 615.0342\n",
            "Epoch 76/200\n",
            "1/1 [==============================] - 0s 40ms/step - loss: 610.5558\n",
            "Epoch 77/200\n",
            "1/1 [==============================] - 0s 25ms/step - loss: 606.1039\n",
            "Epoch 78/200\n",
            "1/1 [==============================] - 0s 18ms/step - loss: 601.6819\n",
            "Epoch 79/200\n",
            "1/1 [==============================] - 0s 13ms/step - loss: 597.2916\n",
            "Epoch 80/200\n",
            "1/1 [==============================] - 0s 14ms/step - loss: 592.9324\n",
            "Epoch 81/200\n",
            "1/1 [==============================] - 0s 22ms/step - loss: 588.6030\n",
            "Epoch 82/200\n",
            "1/1 [==============================] - 0s 24ms/step - loss: 584.3004\n",
            "Epoch 83/200\n",
            "1/1 [==============================] - 0s 16ms/step - loss: 580.0217\n",
            "Epoch 84/200\n",
            "1/1 [==============================] - 0s 15ms/step - loss: 575.7649\n",
            "Epoch 85/200\n",
            "1/1 [==============================] - 0s 18ms/step - loss: 571.5287\n",
            "Epoch 86/200\n",
            "1/1 [==============================] - 0s 17ms/step - loss: 567.3131\n",
            "Epoch 87/200\n",
            "1/1 [==============================] - 0s 12ms/step - loss: 563.1187\n",
            "Epoch 88/200\n",
            "1/1 [==============================] - 0s 21ms/step - loss: 558.9469\n",
            "Epoch 89/200\n",
            "1/1 [==============================] - 0s 21ms/step - loss: 554.7991\n",
            "Epoch 90/200\n",
            "1/1 [==============================] - 0s 20ms/step - loss: 550.6766\n",
            "Epoch 91/200\n",
            "1/1 [==============================] - 0s 20ms/step - loss: 546.5798\n",
            "Epoch 92/200\n",
            "1/1 [==============================] - 0s 18ms/step - loss: 542.5087\n",
            "Epoch 93/200\n",
            "1/1 [==============================] - 0s 17ms/step - loss: 538.4627\n",
            "Epoch 94/200\n",
            "1/1 [==============================] - 0s 14ms/step - loss: 534.4408\n",
            "Epoch 95/200\n",
            "1/1 [==============================] - 0s 20ms/step - loss: 530.4421\n",
            "Epoch 96/200\n",
            "1/1 [==============================] - 0s 22ms/step - loss: 526.4659\n",
            "Epoch 97/200\n",
            "1/1 [==============================] - 0s 20ms/step - loss: 522.5115\n",
            "Epoch 98/200\n",
            "1/1 [==============================] - 0s 21ms/step - loss: 518.5790\n",
            "Epoch 99/200\n",
            "1/1 [==============================] - 0s 19ms/step - loss: 514.6688\n",
            "Epoch 100/200\n",
            "1/1 [==============================] - 0s 21ms/step - loss: 510.7810\n",
            "Epoch 101/200\n",
            "1/1 [==============================] - 0s 18ms/step - loss: 506.9163\n",
            "Epoch 102/200\n",
            "1/1 [==============================] - 0s 17ms/step - loss: 503.0748\n",
            "Epoch 103/200\n",
            "1/1 [==============================] - 0s 15ms/step - loss: 499.2567\n",
            "Epoch 104/200\n",
            "1/1 [==============================] - 0s 18ms/step - loss: 495.4618\n",
            "Epoch 105/200\n",
            "1/1 [==============================] - 0s 20ms/step - loss: 491.6896\n",
            "Epoch 106/200\n",
            "1/1 [==============================] - 0s 18ms/step - loss: 487.9400\n",
            "Epoch 107/200\n",
            "1/1 [==============================] - 0s 18ms/step - loss: 484.2125\n",
            "Epoch 108/200\n",
            "1/1 [==============================] - 0s 21ms/step - loss: 480.5069\n",
            "Epoch 109/200\n",
            "1/1 [==============================] - 0s 21ms/step - loss: 476.8230\n",
            "Epoch 110/200\n",
            "1/1 [==============================] - 0s 20ms/step - loss: 473.1608\n",
            "Epoch 111/200\n",
            "1/1 [==============================] - 0s 17ms/step - loss: 469.5204\n",
            "Epoch 112/200\n",
            "1/1 [==============================] - 0s 20ms/step - loss: 465.9019\n",
            "Epoch 113/200\n",
            "1/1 [==============================] - 0s 16ms/step - loss: 462.3053\n",
            "Epoch 114/200\n",
            "1/1 [==============================] - 0s 15ms/step - loss: 458.7306\n",
            "Epoch 115/200\n",
            "1/1 [==============================] - 0s 16ms/step - loss: 455.1778\n",
            "Epoch 116/200\n",
            "1/1 [==============================] - 0s 15ms/step - loss: 451.6467\n",
            "Epoch 117/200\n",
            "1/1 [==============================] - 0s 17ms/step - loss: 448.1371\n",
            "Epoch 118/200\n",
            "1/1 [==============================] - 0s 16ms/step - loss: 444.6487\n",
            "Epoch 119/200\n",
            "1/1 [==============================] - 0s 17ms/step - loss: 441.1815\n",
            "Epoch 120/200\n",
            "1/1 [==============================] - 0s 18ms/step - loss: 437.7354\n",
            "Epoch 121/200\n",
            "1/1 [==============================] - 0s 12ms/step - loss: 434.3103\n",
            "Epoch 122/200\n",
            "1/1 [==============================] - 0s 16ms/step - loss: 430.9061\n",
            "Epoch 123/200\n",
            "1/1 [==============================] - 0s 19ms/step - loss: 427.5229\n",
            "Epoch 124/200\n",
            "1/1 [==============================] - 0s 14ms/step - loss: 424.1607\n",
            "Epoch 125/200\n",
            "1/1 [==============================] - 0s 14ms/step - loss: 420.8192\n",
            "Epoch 126/200\n",
            "1/1 [==============================] - 0s 15ms/step - loss: 417.4984\n",
            "Epoch 127/200\n",
            "1/1 [==============================] - 0s 16ms/step - loss: 414.1984\n",
            "Epoch 128/200\n",
            "1/1 [==============================] - 0s 17ms/step - loss: 410.9189\n",
            "Epoch 129/200\n",
            "1/1 [==============================] - 0s 17ms/step - loss: 407.6598\n",
            "Epoch 130/200\n",
            "1/1 [==============================] - 0s 19ms/step - loss: 404.4211\n",
            "Epoch 131/200\n",
            "1/1 [==============================] - 0s 24ms/step - loss: 401.2025\n",
            "Epoch 132/200\n",
            "1/1 [==============================] - 0s 19ms/step - loss: 398.0042\n",
            "Epoch 133/200\n",
            "1/1 [==============================] - 0s 22ms/step - loss: 394.8259\n",
            "Epoch 134/200\n",
            "1/1 [==============================] - 0s 24ms/step - loss: 391.6677\n",
            "Epoch 135/200\n",
            "1/1 [==============================] - 0s 22ms/step - loss: 388.5294\n",
            "Epoch 136/200\n",
            "1/1 [==============================] - 0s 15ms/step - loss: 385.4109\n",
            "Epoch 137/200\n",
            "1/1 [==============================] - 0s 18ms/step - loss: 382.3123\n",
            "Epoch 138/200\n",
            "1/1 [==============================] - 0s 17ms/step - loss: 379.2334\n",
            "Epoch 139/200\n",
            "1/1 [==============================] - 0s 14ms/step - loss: 376.1742\n",
            "Epoch 140/200\n",
            "1/1 [==============================] - 0s 24ms/step - loss: 373.1343\n",
            "Epoch 141/200\n",
            "1/1 [==============================] - 0s 17ms/step - loss: 370.1140\n",
            "Epoch 142/200\n",
            "1/1 [==============================] - 0s 19ms/step - loss: 367.1130\n",
            "Epoch 143/200\n",
            "1/1 [==============================] - 0s 21ms/step - loss: 364.1313\n",
            "Epoch 144/200\n",
            "1/1 [==============================] - 0s 15ms/step - loss: 361.1687\n",
            "Epoch 145/200\n",
            "1/1 [==============================] - 0s 22ms/step - loss: 358.2253\n",
            "Epoch 146/200\n",
            "1/1 [==============================] - 0s 16ms/step - loss: 355.3009\n",
            "Epoch 147/200\n",
            "1/1 [==============================] - 0s 23ms/step - loss: 352.3955\n",
            "Epoch 148/200\n",
            "1/1 [==============================] - 0s 18ms/step - loss: 349.5089\n",
            "Epoch 149/200\n",
            "1/1 [==============================] - 0s 20ms/step - loss: 346.6412\n",
            "Epoch 150/200\n",
            "1/1 [==============================] - 0s 19ms/step - loss: 343.7921\n",
            "Epoch 151/200\n",
            "1/1 [==============================] - 0s 15ms/step - loss: 340.9617\n",
            "Epoch 152/200\n",
            "1/1 [==============================] - 0s 20ms/step - loss: 338.1498\n",
            "Epoch 153/200\n",
            "1/1 [==============================] - 0s 18ms/step - loss: 335.3564\n",
            "Epoch 154/200\n",
            "1/1 [==============================] - 0s 19ms/step - loss: 332.5813\n",
            "Epoch 155/200\n",
            "1/1 [==============================] - 0s 23ms/step - loss: 329.8246\n",
            "Epoch 156/200\n",
            "1/1 [==============================] - 0s 31ms/step - loss: 327.0860\n",
            "Epoch 157/200\n",
            "1/1 [==============================] - 0s 34ms/step - loss: 324.3656\n",
            "Epoch 158/200\n",
            "1/1 [==============================] - 0s 32ms/step - loss: 321.6633\n",
            "Epoch 159/200\n",
            "1/1 [==============================] - 0s 22ms/step - loss: 318.9789\n",
            "Epoch 160/200\n",
            "1/1 [==============================] - 0s 16ms/step - loss: 316.3124\n",
            "Epoch 161/200\n",
            "1/1 [==============================] - 0s 16ms/step - loss: 313.6637\n",
            "Epoch 162/200\n",
            "1/1 [==============================] - 0s 15ms/step - loss: 311.0328\n",
            "Epoch 163/200\n",
            "1/1 [==============================] - 0s 18ms/step - loss: 308.4195\n",
            "Epoch 164/200\n",
            "1/1 [==============================] - 0s 22ms/step - loss: 305.8238\n",
            "Epoch 165/200\n",
            "1/1 [==============================] - 0s 17ms/step - loss: 303.2455\n",
            "Epoch 166/200\n",
            "1/1 [==============================] - 0s 17ms/step - loss: 300.6847\n",
            "Epoch 167/200\n",
            "1/1 [==============================] - 0s 18ms/step - loss: 298.1411\n",
            "Epoch 168/200\n",
            "1/1 [==============================] - 0s 20ms/step - loss: 295.6149\n",
            "Epoch 169/200\n",
            "1/1 [==============================] - 0s 20ms/step - loss: 293.1059\n",
            "Epoch 170/200\n",
            "1/1 [==============================] - 0s 15ms/step - loss: 290.6139\n",
            "Epoch 171/200\n",
            "1/1 [==============================] - 0s 40ms/step - loss: 288.1389\n",
            "Epoch 172/200\n",
            "1/1 [==============================] - 0s 24ms/step - loss: 285.6808\n",
            "Epoch 173/200\n",
            "1/1 [==============================] - 0s 28ms/step - loss: 283.2396\n",
            "Epoch 174/200\n",
            "1/1 [==============================] - 0s 14ms/step - loss: 280.8151\n",
            "Epoch 175/200\n",
            "1/1 [==============================] - 0s 24ms/step - loss: 278.4074\n",
            "Epoch 176/200\n",
            "1/1 [==============================] - 0s 30ms/step - loss: 276.0163\n",
            "Epoch 177/200\n",
            "1/1 [==============================] - 0s 29ms/step - loss: 273.6417\n",
            "Epoch 178/200\n",
            "1/1 [==============================] - 0s 23ms/step - loss: 271.2835\n",
            "Epoch 179/200\n",
            "1/1 [==============================] - 0s 28ms/step - loss: 268.9418\n",
            "Epoch 180/200\n",
            "1/1 [==============================] - 0s 37ms/step - loss: 266.6163\n",
            "Epoch 181/200\n",
            "1/1 [==============================] - 0s 22ms/step - loss: 264.3071\n",
            "Epoch 182/200\n",
            "1/1 [==============================] - 0s 15ms/step - loss: 262.0139\n",
            "Epoch 183/200\n",
            "1/1 [==============================] - 0s 20ms/step - loss: 259.7369\n",
            "Epoch 184/200\n",
            "1/1 [==============================] - 0s 20ms/step - loss: 257.4758\n",
            "Epoch 185/200\n",
            "1/1 [==============================] - 0s 20ms/step - loss: 255.2307\n",
            "Epoch 186/200\n",
            "1/1 [==============================] - 0s 19ms/step - loss: 253.0013\n",
            "Epoch 187/200\n",
            "1/1 [==============================] - 0s 16ms/step - loss: 250.7878\n",
            "Epoch 188/200\n",
            "1/1 [==============================] - 0s 51ms/step - loss: 248.5898\n",
            "Epoch 189/200\n",
            "1/1 [==============================] - 0s 19ms/step - loss: 246.4075\n",
            "Epoch 190/200\n",
            "1/1 [==============================] - 0s 20ms/step - loss: 244.2407\n",
            "Epoch 191/200\n",
            "1/1 [==============================] - 0s 22ms/step - loss: 242.0893\n",
            "Epoch 192/200\n",
            "1/1 [==============================] - 0s 23ms/step - loss: 239.9533\n",
            "Epoch 193/200\n",
            "1/1 [==============================] - 0s 22ms/step - loss: 237.8326\n",
            "Epoch 194/200\n",
            "1/1 [==============================] - 0s 24ms/step - loss: 235.7271\n",
            "Epoch 195/200\n",
            "1/1 [==============================] - 0s 56ms/step - loss: 233.6367\n",
            "Epoch 196/200\n",
            "1/1 [==============================] - 0s 20ms/step - loss: 231.5614\n",
            "Epoch 197/200\n",
            "1/1 [==============================] - 0s 22ms/step - loss: 229.5010\n",
            "Epoch 198/200\n",
            "1/1 [==============================] - 0s 19ms/step - loss: 227.4556\n",
            "Epoch 199/200\n",
            "1/1 [==============================] - 0s 22ms/step - loss: 225.4250\n",
            "Epoch 200/200\n",
            "1/1 [==============================] - 0s 25ms/step - loss: 223.4091\n"
          ]
        }
      ]
    },
    {
      "cell_type": "markdown",
      "source": [
        "### Avaliação do modelo"
      ],
      "metadata": {
        "id": "76kSdg7NtOkz"
      }
    },
    {
      "cell_type": "code",
      "source": [
        " plt.plot(epochs_hist.history['loss']);\n",
        " plt.title('Progresso de perda de modelo durante o treinamento');\n",
        " plt.xlabel('Epoch');\n",
        " plt.ylabel('Perda de treinamento');"
      ],
      "metadata": {
        "colab": {
          "base_uri": "https://localhost:8080/",
          "height": 472
        },
        "id": "bVtcMGMUuS_6",
        "outputId": "603c6d44-c2a6-4b90-f0bd-b628f6f1ac0b"
      },
      "execution_count": null,
      "outputs": [
        {
          "output_type": "display_data",
          "data": {
            "text/plain": [
              "<Figure size 640x480 with 1 Axes>"
            ],
            "image/png": "[encoded data removed]"
          },
          "metadata": {}
        }
      ]
    },
    {
      "cell_type": "code",
      "source": [
        "print(model.get_weights())"
      ],
      "metadata": {
        "colab": {
          "base_uri": "https://localhost:8080/"
        },
        "id": "8JUZcuo6w1ek",
        "outputId": "14f3ed41-0f3f-409f-9ea4-caf8b94acee6"
      },
      "execution_count": null,
      "outputs": [
        {
          "output_type": "stream",
          "name": "stdout",
          "text": [
            "[array([[1.8593438]], dtype=float32), array([17.061016], dtype=float32)]\n"
          ]
        }
      ]
    },
    {
      "cell_type": "code",
      "source": [
        "temp_c=[0,1,2,10]\n",
        "temp_f = model.predict(temp_c)\n",
        "print(temp_f.round(2))\n",
        "\n",
        "formula=lambda temp_c: temp_c *(9/5)+32\n",
        "for cecius in temp_c:\n",
        "  print(formula(cecius))"
      ],
      "metadata": {
        "colab": {
          "base_uri": "https://localhost:8080/"
        },
        "id": "S-4vdkwk3YkF",
        "outputId": "c62dbaac-afa2-4d0d-db96-437f163444bc"
      },
      "execution_count": null,
      "outputs": [
        {
          "output_type": "stream",
          "name": "stdout",
          "text": [
            "1/1 [==============================] - 0s 95ms/step\n",
            "[[17.06]\n",
            " [18.92]\n",
            " [20.78]\n",
            " [35.65]]\n",
            "32.0\n",
            "33.8\n",
            "35.6\n",
            "50.0\n"
          ]
        }
      ]
    },
    {
      "cell_type": "code",
      "source": [
        "from sklearn.linear_model import LinearRegression\n",
        "\n",
        "regressor = LinearRegression()\n",
        "\n",
        "x_train = x_train.reshape(-1,1)\n",
        "y_train = y_train.reshape(-1,1)\n",
        "\n",
        "print(x_train.shape)\n",
        "print(y_train.shape)\n",
        "\n",
        "regressor.fit(x_train,y_train)\n",
        "\n",
        "revenue = regressor.predict(np.array(temp_c).reshape(-1, 1))\n",
        "\n",
        "print('Revenue = ', revenue)\n",
        "\n",
        "#Fomula padrõe de conversão de temperatura °C e °F\n",
        "formula=lambda temp_c: temp_c *(9/5)+32\n",
        "for cecius in temp_c:\n",
        "  print(formula(cecius))"
      ],
      "metadata": {
        "colab": {
          "base_uri": "https://localhost:8080/"
        },
        "id": "ltL6Dw2gsgaU",
        "outputId": "528dbfac-1070-4dbb-8a07-ff05116d353b"
      },
      "execution_count": null,
      "outputs": [
        {
          "output_type": "stream",
          "name": "stdout",
          "text": [
            "(30, 1)\n",
            "(30, 1)\n",
            "Revenue =  [[32. ]\n",
            " [33.8]\n",
            " [35.6]\n",
            " [50. ]]\n",
            "32.0\n",
            "33.8\n",
            "35.6\n",
            "50.0\n"
          ]
        }
      ]
    }
  ]
}